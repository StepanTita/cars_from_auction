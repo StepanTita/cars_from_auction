{
 "cells": [
  {
   "cell_type": "code",
   "execution_count": 1,
   "metadata": {},
   "outputs": [],
   "source": [
    "import numpy as np\n",
    "import pandas as pd\n",
    "import matplotlib.pyplot as plt\n",
    "import sklearn as skl\n",
    "import seaborn as sns"
   ]
  },
  {
   "cell_type": "code",
   "execution_count": 2,
   "metadata": {},
   "outputs": [
    {
     "name": "stdout",
     "output_type": "stream",
     "text": [
      "/home/stepan/kaggle/cars_from_auction\n"
     ]
    }
   ],
   "source": [
    "%cd /home/stepan/kaggle/cars_from_auction"
   ]
  },
  {
   "cell_type": "code",
   "execution_count": 3,
   "metadata": {},
   "outputs": [
    {
     "name": "stdout",
     "output_type": "stream",
     "text": [
      "\u001b[0m\u001b[01;34mdata\u001b[0m/  \u001b[01;34mmodels\u001b[0m/  \u001b[01;34mprepare\u001b[0m/  \u001b[01;34mresult\u001b[0m/  \u001b[01;34mreview\u001b[0m/  \u001b[01;34mtest\u001b[0m/  \u001b[01;34mtrain\u001b[0m/\r\n"
     ]
    }
   ],
   "source": [
    "%ls"
   ]
  },
  {
   "cell_type": "code",
   "execution_count": 4,
   "metadata": {},
   "outputs": [
    {
     "name": "stdout",
     "output_type": "stream",
     "text": [
      "\u001b[0m\u001b[01;34mprocessed\u001b[0m/  sample_submission.csv  test.csv  train.csv  zipcodes.csv\r\n"
     ]
    }
   ],
   "source": [
    "%ls data/"
   ]
  },
  {
   "cell_type": "code",
   "execution_count": 5,
   "metadata": {},
   "outputs": [],
   "source": [
    "data_path = 'data/'\n",
    "data_file = 'zipcodes.csv'"
   ]
  },
  {
   "cell_type": "code",
   "execution_count": 6,
   "metadata": {},
   "outputs": [],
   "source": [
    "data = pd.read_csv(data_path + data_file, index_col=0)"
   ]
  },
  {
   "cell_type": "code",
   "execution_count": 7,
   "metadata": {},
   "outputs": [
    {
     "data": {
      "text/html": [
       "<div>\n",
       "<style scoped>\n",
       "    .dataframe tbody tr th:only-of-type {\n",
       "        vertical-align: middle;\n",
       "    }\n",
       "\n",
       "    .dataframe tbody tr th {\n",
       "        vertical-align: top;\n",
       "    }\n",
       "\n",
       "    .dataframe thead th {\n",
       "        text-align: right;\n",
       "    }\n",
       "</style>\n",
       "<table border=\"1\" class=\"dataframe\">\n",
       "  <thead>\n",
       "    <tr style=\"text-align: right;\">\n",
       "      <th></th>\n",
       "      <th>zipcode</th>\n",
       "      <th>city</th>\n",
       "      <th>latitude</th>\n",
       "      <th>longitude</th>\n",
       "    </tr>\n",
       "  </thead>\n",
       "  <tbody>\n",
       "    <tr>\n",
       "      <th>0</th>\n",
       "      <td>19348</td>\n",
       "      <td>Berge bei Perleberg</td>\n",
       "      <td>53.237460</td>\n",
       "      <td>11.870770</td>\n",
       "    </tr>\n",
       "    <tr>\n",
       "      <th>1</th>\n",
       "      <td>85309</td>\n",
       "      <td>Pörnbach</td>\n",
       "      <td>48.616700</td>\n",
       "      <td>11.466700</td>\n",
       "    </tr>\n",
       "    <tr>\n",
       "      <th>2</th>\n",
       "      <td>24790</td>\n",
       "      <td>Osterrönfeld Heidkrug, Gemeinde Osterrönfeld</td>\n",
       "      <td>54.275360</td>\n",
       "      <td>9.737535</td>\n",
       "    </tr>\n",
       "    <tr>\n",
       "      <th>3</th>\n",
       "      <td>98646</td>\n",
       "      <td>Hildburghausen</td>\n",
       "      <td>50.439501</td>\n",
       "      <td>10.723922</td>\n",
       "    </tr>\n",
       "    <tr>\n",
       "      <th>4</th>\n",
       "      <td>27336</td>\n",
       "      <td>Frankenfeld, Aller</td>\n",
       "      <td>52.769510</td>\n",
       "      <td>9.430780</td>\n",
       "    </tr>\n",
       "    <tr>\n",
       "      <th>...</th>\n",
       "      <td>...</td>\n",
       "      <td>...</td>\n",
       "      <td>...</td>\n",
       "      <td>...</td>\n",
       "    </tr>\n",
       "    <tr>\n",
       "      <th>17370</th>\n",
       "      <td>48465</td>\n",
       "      <td>Isterberg</td>\n",
       "      <td>52.363460</td>\n",
       "      <td>7.160770</td>\n",
       "    </tr>\n",
       "    <tr>\n",
       "      <th>17371</th>\n",
       "      <td>14929</td>\n",
       "      <td>Treuenbrietzen Bardenitz</td>\n",
       "      <td>52.070188</td>\n",
       "      <td>12.937977</td>\n",
       "    </tr>\n",
       "    <tr>\n",
       "      <th>17372</th>\n",
       "      <td>14913</td>\n",
       "      <td>Treuenbrietzen Bardenitz</td>\n",
       "      <td>52.070188</td>\n",
       "      <td>12.937977</td>\n",
       "    </tr>\n",
       "    <tr>\n",
       "      <th>17373</th>\n",
       "      <td>22946</td>\n",
       "      <td>Dahmker</td>\n",
       "      <td>53.587820</td>\n",
       "      <td>10.444710</td>\n",
       "    </tr>\n",
       "    <tr>\n",
       "      <th>17374</th>\n",
       "      <td>56335</td>\n",
       "      <td>Neuhäusel, Westerwald</td>\n",
       "      <td>50.383300</td>\n",
       "      <td>7.716670</td>\n",
       "    </tr>\n",
       "  </tbody>\n",
       "</table>\n",
       "<p>17367 rows × 4 columns</p>\n",
       "</div>"
      ],
      "text/plain": [
       "       zipcode                                          city   latitude  \\\n",
       "0        19348                           Berge bei Perleberg  53.237460   \n",
       "1        85309                                      Pörnbach  48.616700   \n",
       "2        24790  Osterrönfeld Heidkrug, Gemeinde Osterrönfeld  54.275360   \n",
       "3        98646                                Hildburghausen  50.439501   \n",
       "4        27336                            Frankenfeld, Aller  52.769510   \n",
       "...        ...                                           ...        ...   \n",
       "17370    48465                                     Isterberg  52.363460   \n",
       "17371    14929                      Treuenbrietzen Bardenitz  52.070188   \n",
       "17372    14913                      Treuenbrietzen Bardenitz  52.070188   \n",
       "17373    22946                                       Dahmker  53.587820   \n",
       "17374    56335                         Neuhäusel, Westerwald  50.383300   \n",
       "\n",
       "       longitude  \n",
       "0      11.870770  \n",
       "1      11.466700  \n",
       "2       9.737535  \n",
       "3      10.723922  \n",
       "4       9.430780  \n",
       "...          ...  \n",
       "17370   7.160770  \n",
       "17371  12.937977  \n",
       "17372  12.937977  \n",
       "17373  10.444710  \n",
       "17374   7.716670  \n",
       "\n",
       "[17367 rows x 4 columns]"
      ]
     },
     "execution_count": 7,
     "metadata": {},
     "output_type": "execute_result"
    }
   ],
   "source": [
    "data"
   ]
  },
  {
   "cell_type": "code",
   "execution_count": 9,
   "metadata": {},
   "outputs": [],
   "source": [
    "data.loc[:, 'dist'] = data['latitude']**2 + data['longitude']**2"
   ]
  },
  {
   "cell_type": "code",
   "execution_count": 10,
   "metadata": {},
   "outputs": [
    {
     "data": {
      "text/html": [
       "<div>\n",
       "<style scoped>\n",
       "    .dataframe tbody tr th:only-of-type {\n",
       "        vertical-align: middle;\n",
       "    }\n",
       "\n",
       "    .dataframe tbody tr th {\n",
       "        vertical-align: top;\n",
       "    }\n",
       "\n",
       "    .dataframe thead th {\n",
       "        text-align: right;\n",
       "    }\n",
       "</style>\n",
       "<table border=\"1\" class=\"dataframe\">\n",
       "  <thead>\n",
       "    <tr style=\"text-align: right;\">\n",
       "      <th></th>\n",
       "      <th>zipcode</th>\n",
       "      <th>city</th>\n",
       "      <th>latitude</th>\n",
       "      <th>longitude</th>\n",
       "      <th>dist</th>\n",
       "    </tr>\n",
       "  </thead>\n",
       "  <tbody>\n",
       "    <tr>\n",
       "      <th>0</th>\n",
       "      <td>19348</td>\n",
       "      <td>Berge bei Perleberg</td>\n",
       "      <td>53.237460</td>\n",
       "      <td>11.870770</td>\n",
       "      <td>2975.142328</td>\n",
       "    </tr>\n",
       "    <tr>\n",
       "      <th>1</th>\n",
       "      <td>85309</td>\n",
       "      <td>Pörnbach</td>\n",
       "      <td>48.616700</td>\n",
       "      <td>11.466700</td>\n",
       "      <td>2495.068728</td>\n",
       "    </tr>\n",
       "    <tr>\n",
       "      <th>2</th>\n",
       "      <td>24790</td>\n",
       "      <td>Osterrönfeld Heidkrug, Gemeinde Osterrönfeld</td>\n",
       "      <td>54.275360</td>\n",
       "      <td>9.737535</td>\n",
       "      <td>3040.634291</td>\n",
       "    </tr>\n",
       "    <tr>\n",
       "      <th>3</th>\n",
       "      <td>98646</td>\n",
       "      <td>Hildburghausen</td>\n",
       "      <td>50.439501</td>\n",
       "      <td>10.723922</td>\n",
       "      <td>2659.145779</td>\n",
       "    </tr>\n",
       "    <tr>\n",
       "      <th>4</th>\n",
       "      <td>27336</td>\n",
       "      <td>Frankenfeld, Aller</td>\n",
       "      <td>52.769510</td>\n",
       "      <td>9.430780</td>\n",
       "      <td>2873.560797</td>\n",
       "    </tr>\n",
       "    <tr>\n",
       "      <th>...</th>\n",
       "      <td>...</td>\n",
       "      <td>...</td>\n",
       "      <td>...</td>\n",
       "      <td>...</td>\n",
       "      <td>...</td>\n",
       "    </tr>\n",
       "    <tr>\n",
       "      <th>17370</th>\n",
       "      <td>48465</td>\n",
       "      <td>Isterberg</td>\n",
       "      <td>52.363460</td>\n",
       "      <td>7.160770</td>\n",
       "      <td>2793.208570</td>\n",
       "    </tr>\n",
       "    <tr>\n",
       "      <th>17371</th>\n",
       "      <td>14929</td>\n",
       "      <td>Treuenbrietzen Bardenitz</td>\n",
       "      <td>52.070188</td>\n",
       "      <td>12.937977</td>\n",
       "      <td>2878.695733</td>\n",
       "    </tr>\n",
       "    <tr>\n",
       "      <th>17372</th>\n",
       "      <td>14913</td>\n",
       "      <td>Treuenbrietzen Bardenitz</td>\n",
       "      <td>52.070188</td>\n",
       "      <td>12.937977</td>\n",
       "      <td>2878.695733</td>\n",
       "    </tr>\n",
       "    <tr>\n",
       "      <th>17373</th>\n",
       "      <td>22946</td>\n",
       "      <td>Dahmker</td>\n",
       "      <td>53.587820</td>\n",
       "      <td>10.444710</td>\n",
       "      <td>2980.746419</td>\n",
       "    </tr>\n",
       "    <tr>\n",
       "      <th>17374</th>\n",
       "      <td>56335</td>\n",
       "      <td>Neuhäusel, Westerwald</td>\n",
       "      <td>50.383300</td>\n",
       "      <td>7.716670</td>\n",
       "      <td>2598.023915</td>\n",
       "    </tr>\n",
       "  </tbody>\n",
       "</table>\n",
       "<p>17367 rows × 5 columns</p>\n",
       "</div>"
      ],
      "text/plain": [
       "       zipcode                                          city   latitude  \\\n",
       "0        19348                           Berge bei Perleberg  53.237460   \n",
       "1        85309                                      Pörnbach  48.616700   \n",
       "2        24790  Osterrönfeld Heidkrug, Gemeinde Osterrönfeld  54.275360   \n",
       "3        98646                                Hildburghausen  50.439501   \n",
       "4        27336                            Frankenfeld, Aller  52.769510   \n",
       "...        ...                                           ...        ...   \n",
       "17370    48465                                     Isterberg  52.363460   \n",
       "17371    14929                      Treuenbrietzen Bardenitz  52.070188   \n",
       "17372    14913                      Treuenbrietzen Bardenitz  52.070188   \n",
       "17373    22946                                       Dahmker  53.587820   \n",
       "17374    56335                         Neuhäusel, Westerwald  50.383300   \n",
       "\n",
       "       longitude         dist  \n",
       "0      11.870770  2975.142328  \n",
       "1      11.466700  2495.068728  \n",
       "2       9.737535  3040.634291  \n",
       "3      10.723922  2659.145779  \n",
       "4       9.430780  2873.560797  \n",
       "...          ...          ...  \n",
       "17370   7.160770  2793.208570  \n",
       "17371  12.937977  2878.695733  \n",
       "17372  12.937977  2878.695733  \n",
       "17373  10.444710  2980.746419  \n",
       "17374   7.716670  2598.023915  \n",
       "\n",
       "[17367 rows x 5 columns]"
      ]
     },
     "execution_count": 10,
     "metadata": {},
     "output_type": "execute_result"
    }
   ],
   "source": [
    "data"
   ]
  },
  {
   "cell_type": "code",
   "execution_count": 11,
   "metadata": {},
   "outputs": [],
   "source": [
    "data.to_csv(data_path + 'processed/transformed_' + data_file)"
   ]
  },
  {
   "cell_type": "code",
   "execution_count": null,
   "metadata": {},
   "outputs": [],
   "source": []
  }
 ],
 "metadata": {
  "kernelspec": {
   "display_name": "Python 3",
   "language": "python",
   "name": "python3"
  },
  "language_info": {
   "codemirror_mode": {
    "name": "ipython",
    "version": 3
   },
   "file_extension": ".py",
   "mimetype": "text/x-python",
   "name": "python",
   "nbconvert_exporter": "python",
   "pygments_lexer": "ipython3",
   "version": "3.8.5"
  }
 },
 "nbformat": 4,
 "nbformat_minor": 4
}
