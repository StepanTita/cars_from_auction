{
 "cells": [
  {
   "cell_type": "code",
   "execution_count": 1,
   "metadata": {},
   "outputs": [],
   "source": [
    "import pandas as pd\n",
    "import numpy as np\n",
    "import matplotlib.pyplot as plt\n",
    "import sklearn as skl\n",
    "import seaborn as sns"
   ]
  },
  {
   "cell_type": "code",
   "execution_count": 2,
   "metadata": {},
   "outputs": [
    {
     "name": "stdout",
     "output_type": "stream",
     "text": [
      "/home/stepan/kaggle/cars_from_auction\n"
     ]
    }
   ],
   "source": [
    "%cd /home/stepan/kaggle/cars_from_auction"
   ]
  },
  {
   "cell_type": "code",
   "execution_count": 3,
   "metadata": {},
   "outputs": [
    {
     "name": "stdout",
     "output_type": "stream",
     "text": [
      "\u001b[0m\u001b[01;34mdata\u001b[0m/  \u001b[01;34mprepare\u001b[0m/  \u001b[01;34mreview\u001b[0m/\r\n"
     ]
    }
   ],
   "source": [
    "%ls"
   ]
  },
  {
   "cell_type": "code",
   "execution_count": 4,
   "metadata": {},
   "outputs": [
    {
     "name": "stdout",
     "output_type": "stream",
     "text": [
      "\u001b[0m\u001b[01;34mprocessed\u001b[0m/  sample_submission.csv  test_no_target.csv  train.csv  zipcodes.csv\r\n"
     ]
    }
   ],
   "source": [
    "%ls data/"
   ]
  },
  {
   "cell_type": "markdown",
   "metadata": {},
   "source": [
    "# General review"
   ]
  },
  {
   "cell_type": "code",
   "execution_count": 8,
   "metadata": {},
   "outputs": [],
   "source": [
    "data = pd.read_csv('data/test_no_target.csv', index_col=0)"
   ]
  },
  {
   "cell_type": "code",
   "execution_count": 9,
   "metadata": {},
   "outputs": [
    {
     "data": {
      "text/html": [
       "<div>\n",
       "<style scoped>\n",
       "    .dataframe tbody tr th:only-of-type {\n",
       "        vertical-align: middle;\n",
       "    }\n",
       "\n",
       "    .dataframe tbody tr th {\n",
       "        vertical-align: top;\n",
       "    }\n",
       "\n",
       "    .dataframe thead th {\n",
       "        text-align: right;\n",
       "    }\n",
       "</style>\n",
       "<table border=\"1\" class=\"dataframe\">\n",
       "  <thead>\n",
       "    <tr style=\"text-align: right;\">\n",
       "      <th></th>\n",
       "      <th>engine_capacity</th>\n",
       "      <th>type</th>\n",
       "      <th>registration_year</th>\n",
       "      <th>gearbox</th>\n",
       "      <th>power</th>\n",
       "      <th>model</th>\n",
       "      <th>mileage</th>\n",
       "      <th>fuel</th>\n",
       "      <th>brand</th>\n",
       "      <th>damage</th>\n",
       "      <th>zipcode</th>\n",
       "      <th>insurance_price</th>\n",
       "    </tr>\n",
       "  </thead>\n",
       "  <tbody>\n",
       "    <tr>\n",
       "      <th>83736</th>\n",
       "      <td>1.2</td>\n",
       "      <td>small car</td>\n",
       "      <td>2010</td>\n",
       "      <td>manual</td>\n",
       "      <td>76</td>\n",
       "      <td>twingo</td>\n",
       "      <td>100000</td>\n",
       "      <td>gasoline</td>\n",
       "      <td>renault</td>\n",
       "      <td>0.0</td>\n",
       "      <td>89233</td>\n",
       "      <td>130.0</td>\n",
       "    </tr>\n",
       "    <tr>\n",
       "      <th>89484</th>\n",
       "      <td>2.0</td>\n",
       "      <td>limousine</td>\n",
       "      <td>2009</td>\n",
       "      <td>auto</td>\n",
       "      <td>220</td>\n",
       "      <td>insignia</td>\n",
       "      <td>60000</td>\n",
       "      <td>gasoline</td>\n",
       "      <td>opel</td>\n",
       "      <td>0.0</td>\n",
       "      <td>49439</td>\n",
       "      <td>900.0</td>\n",
       "    </tr>\n",
       "    <tr>\n",
       "      <th>20899</th>\n",
       "      <td>NaN</td>\n",
       "      <td>limousine</td>\n",
       "      <td>2008</td>\n",
       "      <td>manual</td>\n",
       "      <td>143</td>\n",
       "      <td>1er</td>\n",
       "      <td>80000</td>\n",
       "      <td>gasoline</td>\n",
       "      <td>bmw</td>\n",
       "      <td>0.0</td>\n",
       "      <td>10785</td>\n",
       "      <td>730.0</td>\n",
       "    </tr>\n",
       "    <tr>\n",
       "      <th>25126</th>\n",
       "      <td>NaN</td>\n",
       "      <td>limousine</td>\n",
       "      <td>2011</td>\n",
       "      <td>manual</td>\n",
       "      <td>143</td>\n",
       "      <td>3er</td>\n",
       "      <td>60000</td>\n",
       "      <td>gasoline</td>\n",
       "      <td>bmw</td>\n",
       "      <td>NaN</td>\n",
       "      <td>15831</td>\n",
       "      <td>810.0</td>\n",
       "    </tr>\n",
       "    <tr>\n",
       "      <th>84638</th>\n",
       "      <td>1.6</td>\n",
       "      <td>station wagon</td>\n",
       "      <td>2005</td>\n",
       "      <td>manual</td>\n",
       "      <td>113</td>\n",
       "      <td>megane</td>\n",
       "      <td>150000</td>\n",
       "      <td>gasoline</td>\n",
       "      <td>renault</td>\n",
       "      <td>0.0</td>\n",
       "      <td>23863</td>\n",
       "      <td>200.0</td>\n",
       "    </tr>\n",
       "  </tbody>\n",
       "</table>\n",
       "</div>"
      ],
      "text/plain": [
       "       engine_capacity           type  registration_year gearbox  power  \\\n",
       "83736              1.2      small car               2010  manual     76   \n",
       "89484              2.0      limousine               2009    auto    220   \n",
       "20899              NaN      limousine               2008  manual    143   \n",
       "25126              NaN      limousine               2011  manual    143   \n",
       "84638              1.6  station wagon               2005  manual    113   \n",
       "\n",
       "          model  mileage      fuel    brand  damage  zipcode  insurance_price  \n",
       "83736    twingo   100000  gasoline  renault     0.0    89233            130.0  \n",
       "89484  insignia    60000  gasoline     opel     0.0    49439            900.0  \n",
       "20899       1er    80000  gasoline      bmw     0.0    10785            730.0  \n",
       "25126       3er    60000  gasoline      bmw     NaN    15831            810.0  \n",
       "84638    megane   150000  gasoline  renault     0.0    23863            200.0  "
      ]
     },
     "execution_count": 9,
     "metadata": {},
     "output_type": "execute_result"
    }
   ],
   "source": [
    "data.sample(5)"
   ]
  },
  {
   "cell_type": "code",
   "execution_count": 10,
   "metadata": {},
   "outputs": [
    {
     "name": "stdout",
     "output_type": "stream",
     "text": [
      "<class 'pandas.core.frame.DataFrame'>\n",
      "Int64Index: 50000 entries, 60314 to 478\n",
      "Data columns (total 12 columns):\n",
      " #   Column             Non-Null Count  Dtype  \n",
      "---  ------             --------------  -----  \n",
      " 0   engine_capacity    20086 non-null  float64\n",
      " 1   type               43834 non-null  object \n",
      " 2   registration_year  50000 non-null  int64  \n",
      " 3   gearbox            48021 non-null  object \n",
      " 4   power              50000 non-null  int64  \n",
      " 5   model              47671 non-null  object \n",
      " 6   mileage            50000 non-null  int64  \n",
      " 7   fuel               46408 non-null  object \n",
      " 8   brand              50000 non-null  object \n",
      " 9   damage             41773 non-null  float64\n",
      " 10  zipcode            50000 non-null  int64  \n",
      " 11  insurance_price    42594 non-null  float64\n",
      "dtypes: float64(3), int64(4), object(5)\n",
      "memory usage: 5.0+ MB\n"
     ]
    }
   ],
   "source": [
    "data.info()"
   ]
  },
  {
   "cell_type": "markdown",
   "metadata": {},
   "source": [
    "## Visualize"
   ]
  },
  {
   "cell_type": "code",
   "execution_count": 11,
   "metadata": {},
   "outputs": [],
   "source": [
    "default_figsize = (16, 12)\n",
    "plt.rcParams.update({'font.size': 18})"
   ]
  },
  {
   "cell_type": "code",
   "execution_count": 14,
   "metadata": {},
   "outputs": [
    {
     "data": {
      "text/plain": [
       "<AxesSubplot:>"
      ]
     },
     "execution_count": 14,
     "metadata": {},
     "output_type": "execute_result"
    },
    {
     "data": {
      "image/png": "[encoded data removed]",
      "text/plain": [
       "<Figure size 1152x864 with 1 Axes>"
      ]
     },
     "metadata": {
      "needs_background": "light"
     },
     "output_type": "display_data"
    }
   ],
   "source": [
    "data.boxplot(figsize=default_figsize, column=['mileage', 'insurance_price'])"
   ]
  },
  {
   "cell_type": "code",
   "execution_count": 23,
   "metadata": {},
   "outputs": [
    {
     "data": {
      "text/plain": [
       "<AxesSubplot:>"
      ]
     },
     "execution_count": 23,
     "metadata": {},
     "output_type": "execute_result"
    },
    {
     "data": {
      "image/png": "[encoded data removed]",
      "text/plain": [
       "<Figure size 1152x864 with 1 Axes>"
      ]
     },
     "metadata": {
      "needs_background": "light"
     },
     "output_type": "display_data"
    }
   ],
   "source": [
    "pd.DataFrame(np.log(data['insurance_price'])).boxplot(figsize=default_figsize)"
   ]
  },
  {
   "cell_type": "code",
   "execution_count": 15,
   "metadata": {},
   "outputs": [
    {
     "data": {
      "text/plain": [
       "<AxesSubplot:>"
      ]
     },
     "execution_count": 15,
     "metadata": {},
     "output_type": "execute_result"
    },
    {
     "data": {
      "image/png": "[encoded data removed]",
      "text/plain": [
       "<Figure size 1152x864 with 1 Axes>"
      ]
     },
     "metadata": {
      "needs_background": "light"
     },
     "output_type": "display_data"
    }
   ],
   "source": [
    "data.boxplot(figsize=default_figsize, column=['power'])"
   ]
  },
  {
   "cell_type": "code",
   "execution_count": 16,
   "metadata": {},
   "outputs": [
    {
     "data": {
      "text/plain": [
       "<AxesSubplot:>"
      ]
     },
     "execution_count": 16,
     "metadata": {},
     "output_type": "execute_result"
    },
    {
     "data": {
      "image/png": "[encoded data removed]",
      "text/plain": [
       "<Figure size 1152x864 with 1 Axes>"
      ]
     },
     "metadata": {
      "needs_background": "light"
     },
     "output_type": "display_data"
    }
   ],
   "source": [
    "data.boxplot(figsize=default_figsize, column=['registration_year'])"
   ]
  },
  {
   "cell_type": "code",
   "execution_count": 17,
   "metadata": {},
   "outputs": [
    {
     "data": {
      "text/plain": [
       "<AxesSubplot:>"
      ]
     },
     "execution_count": 17,
     "metadata": {},
     "output_type": "execute_result"
    },
    {
     "data": {
      "image/png": "[encoded data removed]",
      "text/plain": [
       "<Figure size 1152x864 with 1 Axes>"
      ]
     },
     "metadata": {
      "needs_background": "light"
     },
     "output_type": "display_data"
    }
   ],
   "source": [
    "data.boxplot(figsize=default_figsize, column=['engine_capacity'])"
   ]
  },
  {
   "cell_type": "markdown",
   "metadata": {},
   "source": [
    "## Statistics"
   ]
  },
  {
   "cell_type": "code",
   "execution_count": 18,
   "metadata": {},
   "outputs": [],
   "source": [
    "def is_high(row):\n",
    "    clone = row.copy()\n",
    "    clone[row.abs() > 0.3] = '#ff937d'\n",
    "    clone[row.abs() > 0.5] = '#f56942'\n",
    "    clone[row.abs() > 0.6] = '#ff795e'\n",
    "    clone[(row.abs() <= 0.3) | (row.abs() == 1.0)] = ''\n",
    "    return [f'background-color: {cell}' for cell in clone]"
   ]
  },
  {
   "cell_type": "code",
   "execution_count": 19,
   "metadata": {},
   "outputs": [
    {
     "data": {
      "text/html": [
       "<style  type=\"text/css\" >\n",
       "#T_27fd5c10_ef60_11ea_89ea_6303d865a989row0_col0,#T_27fd5c10_ef60_11ea_89ea_6303d865a989row0_col1,#T_27fd5c10_ef60_11ea_89ea_6303d865a989row0_col2,#T_27fd5c10_ef60_11ea_89ea_6303d865a989row0_col3,#T_27fd5c10_ef60_11ea_89ea_6303d865a989row0_col4,#T_27fd5c10_ef60_11ea_89ea_6303d865a989row0_col5,#T_27fd5c10_ef60_11ea_89ea_6303d865a989row0_col6,#T_27fd5c10_ef60_11ea_89ea_6303d865a989row1_col0,#T_27fd5c10_ef60_11ea_89ea_6303d865a989row1_col1,#T_27fd5c10_ef60_11ea_89ea_6303d865a989row1_col2,#T_27fd5c10_ef60_11ea_89ea_6303d865a989row1_col3,#T_27fd5c10_ef60_11ea_89ea_6303d865a989row1_col4,#T_27fd5c10_ef60_11ea_89ea_6303d865a989row1_col5,#T_27fd5c10_ef60_11ea_89ea_6303d865a989row1_col6,#T_27fd5c10_ef60_11ea_89ea_6303d865a989row2_col0,#T_27fd5c10_ef60_11ea_89ea_6303d865a989row2_col1,#T_27fd5c10_ef60_11ea_89ea_6303d865a989row2_col2,#T_27fd5c10_ef60_11ea_89ea_6303d865a989row2_col3,#T_27fd5c10_ef60_11ea_89ea_6303d865a989row2_col4,#T_27fd5c10_ef60_11ea_89ea_6303d865a989row2_col5,#T_27fd5c10_ef60_11ea_89ea_6303d865a989row2_col6,#T_27fd5c10_ef60_11ea_89ea_6303d865a989row3_col0,#T_27fd5c10_ef60_11ea_89ea_6303d865a989row3_col1,#T_27fd5c10_ef60_11ea_89ea_6303d865a989row3_col2,#T_27fd5c10_ef60_11ea_89ea_6303d865a989row3_col3,#T_27fd5c10_ef60_11ea_89ea_6303d865a989row3_col4,#T_27fd5c10_ef60_11ea_89ea_6303d865a989row3_col5,#T_27fd5c10_ef60_11ea_89ea_6303d865a989row3_col6,#T_27fd5c10_ef60_11ea_89ea_6303d865a989row4_col0,#T_27fd5c10_ef60_11ea_89ea_6303d865a989row4_col1,#T_27fd5c10_ef60_11ea_89ea_6303d865a989row4_col2,#T_27fd5c10_ef60_11ea_89ea_6303d865a989row4_col3,#T_27fd5c10_ef60_11ea_89ea_6303d865a989row4_col4,#T_27fd5c10_ef60_11ea_89ea_6303d865a989row4_col5,#T_27fd5c10_ef60_11ea_89ea_6303d865a989row4_col6,#T_27fd5c10_ef60_11ea_89ea_6303d865a989row5_col0,#T_27fd5c10_ef60_11ea_89ea_6303d865a989row5_col1,#T_27fd5c10_ef60_11ea_89ea_6303d865a989row5_col2,#T_27fd5c10_ef60_11ea_89ea_6303d865a989row5_col3,#T_27fd5c10_ef60_11ea_89ea_6303d865a989row5_col4,#T_27fd5c10_ef60_11ea_89ea_6303d865a989row5_col5,#T_27fd5c10_ef60_11ea_89ea_6303d865a989row5_col6,#T_27fd5c10_ef60_11ea_89ea_6303d865a989row6_col0,#T_27fd5c10_ef60_11ea_89ea_6303d865a989row6_col1,#T_27fd5c10_ef60_11ea_89ea_6303d865a989row6_col2,#T_27fd5c10_ef60_11ea_89ea_6303d865a989row6_col3,#T_27fd5c10_ef60_11ea_89ea_6303d865a989row6_col4,#T_27fd5c10_ef60_11ea_89ea_6303d865a989row6_col5,#T_27fd5c10_ef60_11ea_89ea_6303d865a989row6_col6{\n",
       "            background-color:  ;\n",
       "        }</style><table id=\"T_27fd5c10_ef60_11ea_89ea_6303d865a989\" ><thead>    <tr>        <th class=\"blank level0\" ></th>        <th class=\"col_heading level0 col0\" >engine_capacity</th>        <th class=\"col_heading level0 col1\" >registration_year</th>        <th class=\"col_heading level0 col2\" >power</th>        <th class=\"col_heading level0 col3\" >mileage</th>        <th class=\"col_heading level0 col4\" >damage</th>        <th class=\"col_heading level0 col5\" >zipcode</th>        <th class=\"col_heading level0 col6\" >insurance_price</th>    </tr></thead><tbody>\n",
       "                <tr>\n",
       "                        <th id=\"T_27fd5c10_ef60_11ea_89ea_6303d865a989level0_row0\" class=\"row_heading level0 row0\" >engine_capacity</th>\n",
       "                        <td id=\"T_27fd5c10_ef60_11ea_89ea_6303d865a989row0_col0\" class=\"data row0 col0\" >1.000000</td>\n",
       "                        <td id=\"T_27fd5c10_ef60_11ea_89ea_6303d865a989row0_col1\" class=\"data row0 col1\" >0.000904</td>\n",
       "                        <td id=\"T_27fd5c10_ef60_11ea_89ea_6303d865a989row0_col2\" class=\"data row0 col2\" >0.272703</td>\n",
       "                        <td id=\"T_27fd5c10_ef60_11ea_89ea_6303d865a989row0_col3\" class=\"data row0 col3\" >0.122118</td>\n",
       "                        <td id=\"T_27fd5c10_ef60_11ea_89ea_6303d865a989row0_col4\" class=\"data row0 col4\" >0.028722</td>\n",
       "                        <td id=\"T_27fd5c10_ef60_11ea_89ea_6303d865a989row0_col5\" class=\"data row0 col5\" >-0.002471</td>\n",
       "                        <td id=\"T_27fd5c10_ef60_11ea_89ea_6303d865a989row0_col6\" class=\"data row0 col6\" >0.197016</td>\n",
       "            </tr>\n",
       "            <tr>\n",
       "                        <th id=\"T_27fd5c10_ef60_11ea_89ea_6303d865a989level0_row1\" class=\"row_heading level0 row1\" >registration_year</th>\n",
       "                        <td id=\"T_27fd5c10_ef60_11ea_89ea_6303d865a989row1_col0\" class=\"data row1 col0\" >0.000904</td>\n",
       "                        <td id=\"T_27fd5c10_ef60_11ea_89ea_6303d865a989row1_col1\" class=\"data row1 col1\" >1.000000</td>\n",
       "                        <td id=\"T_27fd5c10_ef60_11ea_89ea_6303d865a989row1_col2\" class=\"data row1 col2\" >0.006052</td>\n",
       "                        <td id=\"T_27fd5c10_ef60_11ea_89ea_6303d865a989row1_col3\" class=\"data row1 col3\" >0.002814</td>\n",
       "                        <td id=\"T_27fd5c10_ef60_11ea_89ea_6303d865a989row1_col4\" class=\"data row1 col4\" >0.003487</td>\n",
       "                        <td id=\"T_27fd5c10_ef60_11ea_89ea_6303d865a989row1_col5\" class=\"data row1 col5\" >-0.001905</td>\n",
       "                        <td id=\"T_27fd5c10_ef60_11ea_89ea_6303d865a989row1_col6\" class=\"data row1 col6\" >0.083783</td>\n",
       "            </tr>\n",
       "            <tr>\n",
       "                        <th id=\"T_27fd5c10_ef60_11ea_89ea_6303d865a989level0_row2\" class=\"row_heading level0 row2\" >power</th>\n",
       "                        <td id=\"T_27fd5c10_ef60_11ea_89ea_6303d865a989row2_col0\" class=\"data row2 col0\" >0.272703</td>\n",
       "                        <td id=\"T_27fd5c10_ef60_11ea_89ea_6303d865a989row2_col1\" class=\"data row2 col1\" >0.006052</td>\n",
       "                        <td id=\"T_27fd5c10_ef60_11ea_89ea_6303d865a989row2_col2\" class=\"data row2 col2\" >1.000000</td>\n",
       "                        <td id=\"T_27fd5c10_ef60_11ea_89ea_6303d865a989row2_col3\" class=\"data row2 col3\" >-0.016903</td>\n",
       "                        <td id=\"T_27fd5c10_ef60_11ea_89ea_6303d865a989row2_col4\" class=\"data row2 col4\" >-0.028802</td>\n",
       "                        <td id=\"T_27fd5c10_ef60_11ea_89ea_6303d865a989row2_col5\" class=\"data row2 col5\" >0.026804</td>\n",
       "                        <td id=\"T_27fd5c10_ef60_11ea_89ea_6303d865a989row2_col6\" class=\"data row2 col6\" >0.149864</td>\n",
       "            </tr>\n",
       "            <tr>\n",
       "                        <th id=\"T_27fd5c10_ef60_11ea_89ea_6303d865a989level0_row3\" class=\"row_heading level0 row3\" >mileage</th>\n",
       "                        <td id=\"T_27fd5c10_ef60_11ea_89ea_6303d865a989row3_col0\" class=\"data row3 col0\" >0.122118</td>\n",
       "                        <td id=\"T_27fd5c10_ef60_11ea_89ea_6303d865a989row3_col1\" class=\"data row3 col1\" >0.002814</td>\n",
       "                        <td id=\"T_27fd5c10_ef60_11ea_89ea_6303d865a989row3_col2\" class=\"data row3 col2\" >-0.016903</td>\n",
       "                        <td id=\"T_27fd5c10_ef60_11ea_89ea_6303d865a989row3_col3\" class=\"data row3 col3\" >1.000000</td>\n",
       "                        <td id=\"T_27fd5c10_ef60_11ea_89ea_6303d865a989row3_col4\" class=\"data row3 col4\" >0.092635</td>\n",
       "                        <td id=\"T_27fd5c10_ef60_11ea_89ea_6303d865a989row3_col5\" class=\"data row3 col5\" >-0.031784</td>\n",
       "                        <td id=\"T_27fd5c10_ef60_11ea_89ea_6303d865a989row3_col6\" class=\"data row3 col6\" >-0.269454</td>\n",
       "            </tr>\n",
       "            <tr>\n",
       "                        <th id=\"T_27fd5c10_ef60_11ea_89ea_6303d865a989level0_row4\" class=\"row_heading level0 row4\" >damage</th>\n",
       "                        <td id=\"T_27fd5c10_ef60_11ea_89ea_6303d865a989row4_col0\" class=\"data row4 col0\" >0.028722</td>\n",
       "                        <td id=\"T_27fd5c10_ef60_11ea_89ea_6303d865a989row4_col1\" class=\"data row4 col1\" >0.003487</td>\n",
       "                        <td id=\"T_27fd5c10_ef60_11ea_89ea_6303d865a989row4_col2\" class=\"data row4 col2\" >-0.028802</td>\n",
       "                        <td id=\"T_27fd5c10_ef60_11ea_89ea_6303d865a989row4_col3\" class=\"data row4 col3\" >0.092635</td>\n",
       "                        <td id=\"T_27fd5c10_ef60_11ea_89ea_6303d865a989row4_col4\" class=\"data row4 col4\" >1.000000</td>\n",
       "                        <td id=\"T_27fd5c10_ef60_11ea_89ea_6303d865a989row4_col5\" class=\"data row4 col5\" >0.007505</td>\n",
       "                        <td id=\"T_27fd5c10_ef60_11ea_89ea_6303d865a989row4_col6\" class=\"data row4 col6\" >-0.061676</td>\n",
       "            </tr>\n",
       "            <tr>\n",
       "                        <th id=\"T_27fd5c10_ef60_11ea_89ea_6303d865a989level0_row5\" class=\"row_heading level0 row5\" >zipcode</th>\n",
       "                        <td id=\"T_27fd5c10_ef60_11ea_89ea_6303d865a989row5_col0\" class=\"data row5 col0\" >-0.002471</td>\n",
       "                        <td id=\"T_27fd5c10_ef60_11ea_89ea_6303d865a989row5_col1\" class=\"data row5 col1\" >-0.001905</td>\n",
       "                        <td id=\"T_27fd5c10_ef60_11ea_89ea_6303d865a989row5_col2\" class=\"data row5 col2\" >0.026804</td>\n",
       "                        <td id=\"T_27fd5c10_ef60_11ea_89ea_6303d865a989row5_col3\" class=\"data row5 col3\" >-0.031784</td>\n",
       "                        <td id=\"T_27fd5c10_ef60_11ea_89ea_6303d865a989row5_col4\" class=\"data row5 col4\" >0.007505</td>\n",
       "                        <td id=\"T_27fd5c10_ef60_11ea_89ea_6303d865a989row5_col5\" class=\"data row5 col5\" >1.000000</td>\n",
       "                        <td id=\"T_27fd5c10_ef60_11ea_89ea_6303d865a989row5_col6\" class=\"data row5 col6\" >0.049684</td>\n",
       "            </tr>\n",
       "            <tr>\n",
       "                        <th id=\"T_27fd5c10_ef60_11ea_89ea_6303d865a989level0_row6\" class=\"row_heading level0 row6\" >insurance_price</th>\n",
       "                        <td id=\"T_27fd5c10_ef60_11ea_89ea_6303d865a989row6_col0\" class=\"data row6 col0\" >0.197016</td>\n",
       "                        <td id=\"T_27fd5c10_ef60_11ea_89ea_6303d865a989row6_col1\" class=\"data row6 col1\" >0.083783</td>\n",
       "                        <td id=\"T_27fd5c10_ef60_11ea_89ea_6303d865a989row6_col2\" class=\"data row6 col2\" >0.149864</td>\n",
       "                        <td id=\"T_27fd5c10_ef60_11ea_89ea_6303d865a989row6_col3\" class=\"data row6 col3\" >-0.269454</td>\n",
       "                        <td id=\"T_27fd5c10_ef60_11ea_89ea_6303d865a989row6_col4\" class=\"data row6 col4\" >-0.061676</td>\n",
       "                        <td id=\"T_27fd5c10_ef60_11ea_89ea_6303d865a989row6_col5\" class=\"data row6 col5\" >0.049684</td>\n",
       "                        <td id=\"T_27fd5c10_ef60_11ea_89ea_6303d865a989row6_col6\" class=\"data row6 col6\" >1.000000</td>\n",
       "            </tr>\n",
       "    </tbody></table>"
      ],
      "text/plain": [
       "<pandas.io.formats.style.Styler at 0x7f23ad20f730>"
      ]
     },
     "execution_count": 19,
     "metadata": {},
     "output_type": "execute_result"
    }
   ],
   "source": [
    "data.corr().style.apply(is_high)"
   ]
  },
  {
   "cell_type": "code",
   "execution_count": 20,
   "metadata": {},
   "outputs": [
    {
     "data": {
      "text/plain": [
       "(1.8694662949317935, 1.8)"
      ]
     },
     "execution_count": 20,
     "metadata": {},
     "output_type": "execute_result"
    }
   ],
   "source": [
    "data['engine_capacity'].mean(), data['engine_capacity'].median()"
   ]
  },
  {
   "cell_type": "code",
   "execution_count": 21,
   "metadata": {},
   "outputs": [
    {
     "data": {
      "text/plain": [
       "(120.90786, 110.0)"
      ]
     },
     "execution_count": 21,
     "metadata": {},
     "output_type": "execute_result"
    }
   ],
   "source": [
    "data['power'].mean(), data['power'].median()"
   ]
  },
  {
   "cell_type": "code",
   "execution_count": 22,
   "metadata": {},
   "outputs": [
    {
     "data": {
      "text/plain": [
       "(420.9332300323989, 230.0)"
      ]
     },
     "execution_count": 22,
     "metadata": {},
     "output_type": "execute_result"
    }
   ],
   "source": [
    "data['insurance_price'].mean(), data['insurance_price'].median()"
   ]
  },
  {
   "cell_type": "markdown",
   "metadata": {},
   "source": [
    "## Empty values"
   ]
  },
  {
   "cell_type": "code",
   "execution_count": 29,
   "metadata": {},
   "outputs": [
    {
     "data": {
      "text/html": [
       "<div>\n",
       "<style scoped>\n",
       "    .dataframe tbody tr th:only-of-type {\n",
       "        vertical-align: middle;\n",
       "    }\n",
       "\n",
       "    .dataframe tbody tr th {\n",
       "        vertical-align: top;\n",
       "    }\n",
       "\n",
       "    .dataframe thead th {\n",
       "        text-align: right;\n",
       "    }\n",
       "</style>\n",
       "<table border=\"1\" class=\"dataframe\">\n",
       "  <thead>\n",
       "    <tr style=\"text-align: right;\">\n",
       "      <th></th>\n",
       "      <th>engine_capacity</th>\n",
       "      <th>type</th>\n",
       "      <th>registration_year</th>\n",
       "      <th>gearbox</th>\n",
       "      <th>power</th>\n",
       "      <th>model</th>\n",
       "      <th>mileage</th>\n",
       "      <th>fuel</th>\n",
       "      <th>brand</th>\n",
       "      <th>damage</th>\n",
       "      <th>zipcode</th>\n",
       "      <th>insurance_price</th>\n",
       "    </tr>\n",
       "  </thead>\n",
       "  <tbody>\n",
       "    <tr>\n",
       "      <th>54851</th>\n",
       "      <td>NaN</td>\n",
       "      <td>NaN</td>\n",
       "      <td>1980</td>\n",
       "      <td>manual</td>\n",
       "      <td>0</td>\n",
       "      <td>andere</td>\n",
       "      <td>5000</td>\n",
       "      <td>diesel</td>\n",
       "      <td>mercedes_benz</td>\n",
       "      <td>0.0</td>\n",
       "      <td>82194</td>\n",
       "      <td>740.0</td>\n",
       "    </tr>\n",
       "    <tr>\n",
       "      <th>52536</th>\n",
       "      <td>1.6</td>\n",
       "      <td>NaN</td>\n",
       "      <td>2015</td>\n",
       "      <td>NaN</td>\n",
       "      <td>0</td>\n",
       "      <td>sportage</td>\n",
       "      <td>5000</td>\n",
       "      <td>gasoline</td>\n",
       "      <td>kia</td>\n",
       "      <td>NaN</td>\n",
       "      <td>8412</td>\n",
       "      <td>570.0</td>\n",
       "    </tr>\n",
       "    <tr>\n",
       "      <th>31405</th>\n",
       "      <td>NaN</td>\n",
       "      <td>NaN</td>\n",
       "      <td>2016</td>\n",
       "      <td>auto</td>\n",
       "      <td>0</td>\n",
       "      <td>fortwo</td>\n",
       "      <td>150000</td>\n",
       "      <td>gasoline</td>\n",
       "      <td>smart</td>\n",
       "      <td>NaN</td>\n",
       "      <td>20146</td>\n",
       "      <td>90.0</td>\n",
       "    </tr>\n",
       "    <tr>\n",
       "      <th>77148</th>\n",
       "      <td>NaN</td>\n",
       "      <td>other</td>\n",
       "      <td>1998</td>\n",
       "      <td>manual</td>\n",
       "      <td>0</td>\n",
       "      <td>andere</td>\n",
       "      <td>150000</td>\n",
       "      <td>diesel</td>\n",
       "      <td>nissan</td>\n",
       "      <td>1.0</td>\n",
       "      <td>29633</td>\n",
       "      <td>110.0</td>\n",
       "    </tr>\n",
       "    <tr>\n",
       "      <th>14001</th>\n",
       "      <td>NaN</td>\n",
       "      <td>limousine</td>\n",
       "      <td>2009</td>\n",
       "      <td>NaN</td>\n",
       "      <td>0</td>\n",
       "      <td>focus</td>\n",
       "      <td>125000</td>\n",
       "      <td>NaN</td>\n",
       "      <td>ford</td>\n",
       "      <td>1.0</td>\n",
       "      <td>79106</td>\n",
       "      <td>1160.0</td>\n",
       "    </tr>\n",
       "  </tbody>\n",
       "</table>\n",
       "</div>"
      ],
      "text/plain": [
       "       engine_capacity       type  registration_year gearbox  power     model  \\\n",
       "54851              NaN        NaN               1980  manual      0    andere   \n",
       "52536              1.6        NaN               2015     NaN      0  sportage   \n",
       "31405              NaN        NaN               2016    auto      0    fortwo   \n",
       "77148              NaN      other               1998  manual      0    andere   \n",
       "14001              NaN  limousine               2009     NaN      0     focus   \n",
       "\n",
       "       mileage      fuel          brand  damage  zipcode  insurance_price  \n",
       "54851     5000    diesel  mercedes_benz     0.0    82194            740.0  \n",
       "52536     5000  gasoline            kia     NaN     8412            570.0  \n",
       "31405   150000  gasoline          smart     NaN    20146             90.0  \n",
       "77148   150000    diesel         nissan     1.0    29633            110.0  \n",
       "14001   125000       NaN           ford     1.0    79106           1160.0  "
      ]
     },
     "execution_count": 29,
     "metadata": {},
     "output_type": "execute_result"
    }
   ],
   "source": [
    "data[data['power'] == 0.0].head()"
   ]
  },
  {
   "cell_type": "code",
   "execution_count": 30,
   "metadata": {},
   "outputs": [
    {
     "data": {
      "text/plain": [
       "4314"
      ]
     },
     "execution_count": 30,
     "metadata": {},
     "output_type": "execute_result"
    }
   ],
   "source": [
    "len(data[data['power'] == 0.0])"
   ]
  },
  {
   "cell_type": "code",
   "execution_count": 32,
   "metadata": {},
   "outputs": [
    {
     "data": {
      "text/html": [
       "<div>\n",
       "<style scoped>\n",
       "    .dataframe tbody tr th:only-of-type {\n",
       "        vertical-align: middle;\n",
       "    }\n",
       "\n",
       "    .dataframe tbody tr th {\n",
       "        vertical-align: top;\n",
       "    }\n",
       "\n",
       "    .dataframe thead th {\n",
       "        text-align: right;\n",
       "    }\n",
       "</style>\n",
       "<table border=\"1\" class=\"dataframe\">\n",
       "  <thead>\n",
       "    <tr style=\"text-align: right;\">\n",
       "      <th></th>\n",
       "      <th>engine_capacity</th>\n",
       "      <th>type</th>\n",
       "      <th>registration_year</th>\n",
       "      <th>gearbox</th>\n",
       "      <th>power</th>\n",
       "      <th>model</th>\n",
       "      <th>mileage</th>\n",
       "      <th>fuel</th>\n",
       "      <th>brand</th>\n",
       "      <th>damage</th>\n",
       "      <th>zipcode</th>\n",
       "      <th>insurance_price</th>\n",
       "    </tr>\n",
       "  </thead>\n",
       "  <tbody>\n",
       "    <tr>\n",
       "      <th>25577</th>\n",
       "      <td>0.0</td>\n",
       "      <td>limousine</td>\n",
       "      <td>2000</td>\n",
       "      <td>manual</td>\n",
       "      <td>75</td>\n",
       "      <td>astra</td>\n",
       "      <td>60000</td>\n",
       "      <td>gasoline</td>\n",
       "      <td>opel</td>\n",
       "      <td>0.0</td>\n",
       "      <td>32107</td>\n",
       "      <td>100.0</td>\n",
       "    </tr>\n",
       "    <tr>\n",
       "      <th>20573</th>\n",
       "      <td>0.0</td>\n",
       "      <td>bus</td>\n",
       "      <td>2010</td>\n",
       "      <td>auto</td>\n",
       "      <td>158</td>\n",
       "      <td>ducato</td>\n",
       "      <td>150000</td>\n",
       "      <td>diesel</td>\n",
       "      <td>fiat</td>\n",
       "      <td>0.0</td>\n",
       "      <td>82380</td>\n",
       "      <td>910.0</td>\n",
       "    </tr>\n",
       "    <tr>\n",
       "      <th>49384</th>\n",
       "      <td>0.0</td>\n",
       "      <td>bus</td>\n",
       "      <td>2007</td>\n",
       "      <td>manual</td>\n",
       "      <td>101</td>\n",
       "      <td>ducato</td>\n",
       "      <td>150000</td>\n",
       "      <td>diesel</td>\n",
       "      <td>fiat</td>\n",
       "      <td>0.0</td>\n",
       "      <td>69181</td>\n",
       "      <td>200.0</td>\n",
       "    </tr>\n",
       "    <tr>\n",
       "      <th>45031</th>\n",
       "      <td>0.0</td>\n",
       "      <td>coupé</td>\n",
       "      <td>2010</td>\n",
       "      <td>manual</td>\n",
       "      <td>161</td>\n",
       "      <td>tt</td>\n",
       "      <td>150000</td>\n",
       "      <td>gasoline</td>\n",
       "      <td>audi</td>\n",
       "      <td>NaN</td>\n",
       "      <td>44807</td>\n",
       "      <td>490.0</td>\n",
       "    </tr>\n",
       "    <tr>\n",
       "      <th>18420</th>\n",
       "      <td>0.0</td>\n",
       "      <td>limousine</td>\n",
       "      <td>1982</td>\n",
       "      <td>manual</td>\n",
       "      <td>60</td>\n",
       "      <td>andere</td>\n",
       "      <td>150000</td>\n",
       "      <td>diesel</td>\n",
       "      <td>mercedes_benz</td>\n",
       "      <td>0.0</td>\n",
       "      <td>40468</td>\n",
       "      <td>300.0</td>\n",
       "    </tr>\n",
       "  </tbody>\n",
       "</table>\n",
       "</div>"
      ],
      "text/plain": [
       "       engine_capacity       type  registration_year gearbox  power   model  \\\n",
       "25577              0.0  limousine               2000  manual     75   astra   \n",
       "20573              0.0        bus               2010    auto    158  ducato   \n",
       "49384              0.0        bus               2007  manual    101  ducato   \n",
       "45031              0.0      coupé               2010  manual    161      tt   \n",
       "18420              0.0  limousine               1982  manual     60  andere   \n",
       "\n",
       "       mileage      fuel          brand  damage  zipcode  insurance_price  \n",
       "25577    60000  gasoline           opel     0.0    32107            100.0  \n",
       "20573   150000    diesel           fiat     0.0    82380            910.0  \n",
       "49384   150000    diesel           fiat     0.0    69181            200.0  \n",
       "45031   150000  gasoline           audi     NaN    44807            490.0  \n",
       "18420   150000    diesel  mercedes_benz     0.0    40468            300.0  "
      ]
     },
     "execution_count": 32,
     "metadata": {},
     "output_type": "execute_result"
    }
   ],
   "source": [
    "data[data['engine_capacity'] == 0.0].head()"
   ]
  },
  {
   "cell_type": "code",
   "execution_count": 33,
   "metadata": {},
   "outputs": [
    {
     "data": {
      "text/plain": [
       "28"
      ]
     },
     "execution_count": 33,
     "metadata": {},
     "output_type": "execute_result"
    }
   ],
   "source": [
    "len(data[data['engine_capacity'] == 0.0])"
   ]
  },
  {
   "cell_type": "code",
   "execution_count": 34,
   "metadata": {},
   "outputs": [
    {
     "data": {
      "text/html": [
       "<div>\n",
       "<style scoped>\n",
       "    .dataframe tbody tr th:only-of-type {\n",
       "        vertical-align: middle;\n",
       "    }\n",
       "\n",
       "    .dataframe tbody tr th {\n",
       "        vertical-align: top;\n",
       "    }\n",
       "\n",
       "    .dataframe thead th {\n",
       "        text-align: right;\n",
       "    }\n",
       "</style>\n",
       "<table border=\"1\" class=\"dataframe\">\n",
       "  <thead>\n",
       "    <tr style=\"text-align: right;\">\n",
       "      <th></th>\n",
       "      <th>engine_capacity</th>\n",
       "      <th>type</th>\n",
       "      <th>registration_year</th>\n",
       "      <th>gearbox</th>\n",
       "      <th>power</th>\n",
       "      <th>model</th>\n",
       "      <th>mileage</th>\n",
       "      <th>fuel</th>\n",
       "      <th>brand</th>\n",
       "      <th>damage</th>\n",
       "      <th>zipcode</th>\n",
       "      <th>insurance_price</th>\n",
       "    </tr>\n",
       "  </thead>\n",
       "  <tbody>\n",
       "  </tbody>\n",
       "</table>\n",
       "</div>"
      ],
      "text/plain": [
       "Empty DataFrame\n",
       "Columns: [engine_capacity, type, registration_year, gearbox, power, model, mileage, fuel, brand, damage, zipcode, insurance_price]\n",
       "Index: []"
      ]
     },
     "execution_count": 34,
     "metadata": {},
     "output_type": "execute_result"
    }
   ],
   "source": [
    "data[data['insurance_price'] == 0.0]"
   ]
  },
  {
   "cell_type": "code",
   "execution_count": 36,
   "metadata": {},
   "outputs": [
    {
     "data": {
      "text/plain": [
       "0"
      ]
     },
     "execution_count": 36,
     "metadata": {},
     "output_type": "execute_result"
    }
   ],
   "source": [
    "len(data[data['insurance_price'] == 0.0])"
   ]
  },
  {
   "cell_type": "code",
   "execution_count": null,
   "metadata": {},
   "outputs": [],
   "source": []
  }
 ],
 "metadata": {
  "kernelspec": {
   "display_name": "Python 3",
   "language": "python",
   "name": "python3"
  },
  "language_info": {
   "codemirror_mode": {
    "name": "ipython",
    "version": 3
   },
   "file_extension": ".py",
   "mimetype": "text/x-python",
   "name": "python",
   "nbconvert_exporter": "python",
   "pygments_lexer": "ipython3",
   "version": "3.8.5"
  }
 },
 "nbformat": 4,
 "nbformat_minor": 4
}
