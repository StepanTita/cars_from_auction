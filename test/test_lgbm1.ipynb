{
 "cells": [
  {
   "cell_type": "code",
   "execution_count": 1,
   "metadata": {},
   "outputs": [],
   "source": [
    "import numpy as np\n",
    "import pandas as pd\n",
    "import matplotlib.pyplot as plt\n",
    "import sklearn as skl\n",
    "import seaborn as sns"
   ]
  },
  {
   "cell_type": "code",
   "execution_count": 2,
   "metadata": {},
   "outputs": [
    {
     "name": "stdout",
     "output_type": "stream",
     "text": [
      "/home/stepan/kaggle/cars_from_auction\n"
     ]
    }
   ],
   "source": [
    "%cd /home/stepan/kaggle/cars_from_auction"
   ]
  },
  {
   "cell_type": "code",
   "execution_count": 3,
   "metadata": {},
   "outputs": [
    {
     "name": "stdout",
     "output_type": "stream",
     "text": [
      "\u001b[0m\u001b[01;34mdata\u001b[0m/  \u001b[01;34mmodels\u001b[0m/  \u001b[01;34mprepare\u001b[0m/  \u001b[01;34mresult\u001b[0m/  \u001b[01;34mreview\u001b[0m/  \u001b[01;34mtest\u001b[0m/  \u001b[01;34mtrain\u001b[0m/\r\n"
     ]
    }
   ],
   "source": [
    "%ls"
   ]
  },
  {
   "cell_type": "code",
   "execution_count": 4,
   "metadata": {},
   "outputs": [
    {
     "name": "stdout",
     "output_type": "stream",
     "text": [
      "\u001b[0m\u001b[01;34mprocessed\u001b[0m/  sample_submission.csv  test.csv  train.csv  zipcodes.csv\r\n"
     ]
    }
   ],
   "source": [
    "%ls data/"
   ]
  },
  {
   "cell_type": "code",
   "execution_count": 5,
   "metadata": {},
   "outputs": [
    {
     "name": "stdout",
     "output_type": "stream",
     "text": [
      "filled_transformed_test.csv         merged_filled_transformed_train.csv\r\n",
      "filled_transformed_train.csv        transformed_test.csv\r\n",
      "merged_filled_transformed_test.csv  transformed_train.csv\r\n"
     ]
    }
   ],
   "source": [
    "%ls data/processed"
   ]
  },
  {
   "cell_type": "code",
   "execution_count": 6,
   "metadata": {},
   "outputs": [],
   "source": [
    "data_path = 'data/processed/'\n",
    "data_file = 'merged_filled_transformed_test.csv'"
   ]
  },
  {
   "cell_type": "code",
   "execution_count": 7,
   "metadata": {},
   "outputs": [],
   "source": [
    "data = pd.read_csv(data_path + data_file, index_col=0)"
   ]
  },
  {
   "cell_type": "code",
   "execution_count": 8,
   "metadata": {},
   "outputs": [
    {
     "data": {
      "text/html": [
       "<div>\n",
       "<style scoped>\n",
       "    .dataframe tbody tr th:only-of-type {\n",
       "        vertical-align: middle;\n",
       "    }\n",
       "\n",
       "    .dataframe tbody tr th {\n",
       "        vertical-align: top;\n",
       "    }\n",
       "\n",
       "    .dataframe thead th {\n",
       "        text-align: right;\n",
       "    }\n",
       "</style>\n",
       "<table border=\"1\" class=\"dataframe\">\n",
       "  <thead>\n",
       "    <tr style=\"text-align: right;\">\n",
       "      <th></th>\n",
       "      <th>engine_capacity</th>\n",
       "      <th>type</th>\n",
       "      <th>registration_year</th>\n",
       "      <th>gearbox</th>\n",
       "      <th>power</th>\n",
       "      <th>model</th>\n",
       "      <th>mileage</th>\n",
       "      <th>fuel</th>\n",
       "      <th>brand</th>\n",
       "      <th>damage</th>\n",
       "      <th>zipcode</th>\n",
       "      <th>insurance_price</th>\n",
       "      <th>city</th>\n",
       "      <th>latitude</th>\n",
       "      <th>longitude</th>\n",
       "    </tr>\n",
       "    <tr>\n",
       "      <th>index</th>\n",
       "      <th></th>\n",
       "      <th></th>\n",
       "      <th></th>\n",
       "      <th></th>\n",
       "      <th></th>\n",
       "      <th></th>\n",
       "      <th></th>\n",
       "      <th></th>\n",
       "      <th></th>\n",
       "      <th></th>\n",
       "      <th></th>\n",
       "      <th></th>\n",
       "      <th></th>\n",
       "      <th></th>\n",
       "      <th></th>\n",
       "    </tr>\n",
       "  </thead>\n",
       "  <tbody>\n",
       "    <tr>\n",
       "      <th>60314</th>\n",
       "      <td>1.600000</td>\n",
       "      <td>small car</td>\n",
       "      <td>2013</td>\n",
       "      <td>manual</td>\n",
       "      <td>136.0</td>\n",
       "      <td>swift</td>\n",
       "      <td>40000</td>\n",
       "      <td>gasoline</td>\n",
       "      <td>suzuki</td>\n",
       "      <td>0.0</td>\n",
       "      <td>30449</td>\n",
       "      <td>6.194405</td>\n",
       "      <td>Hannover</td>\n",
       "      <td>52.384470</td>\n",
       "      <td>9.726930</td>\n",
       "    </tr>\n",
       "    <tr>\n",
       "      <th>12566</th>\n",
       "      <td>3.207037</td>\n",
       "      <td>coupé</td>\n",
       "      <td>2004</td>\n",
       "      <td>auto</td>\n",
       "      <td>333.0</td>\n",
       "      <td>6er</td>\n",
       "      <td>150000</td>\n",
       "      <td>gasoline</td>\n",
       "      <td>bmw</td>\n",
       "      <td>0.0</td>\n",
       "      <td>45307</td>\n",
       "      <td>6.507278</td>\n",
       "      <td>Essen, Ruhr</td>\n",
       "      <td>51.462488</td>\n",
       "      <td>7.008645</td>\n",
       "    </tr>\n",
       "    <tr>\n",
       "      <th>17760</th>\n",
       "      <td>2.105880</td>\n",
       "      <td>station wagon</td>\n",
       "      <td>2006</td>\n",
       "      <td>auto</td>\n",
       "      <td>170.0</td>\n",
       "      <td>e_klasse</td>\n",
       "      <td>150000</td>\n",
       "      <td>diesel</td>\n",
       "      <td>mercedes_benz</td>\n",
       "      <td>0.0</td>\n",
       "      <td>59494</td>\n",
       "      <td>6.131226</td>\n",
       "      <td>Soest, Westfalen</td>\n",
       "      <td>51.566980</td>\n",
       "      <td>8.110620</td>\n",
       "    </tr>\n",
       "    <tr>\n",
       "      <th>8876</th>\n",
       "      <td>1.639746</td>\n",
       "      <td>limousine</td>\n",
       "      <td>1999</td>\n",
       "      <td>manual</td>\n",
       "      <td>101.0</td>\n",
       "      <td>astra</td>\n",
       "      <td>150000</td>\n",
       "      <td>gasoline</td>\n",
       "      <td>opel</td>\n",
       "      <td>0.0</td>\n",
       "      <td>25524</td>\n",
       "      <td>5.438079</td>\n",
       "      <td>Itzehoe</td>\n",
       "      <td>53.926752</td>\n",
       "      <td>9.512700</td>\n",
       "    </tr>\n",
       "    <tr>\n",
       "      <th>80392</th>\n",
       "      <td>1.322234</td>\n",
       "      <td>limousine</td>\n",
       "      <td>1975</td>\n",
       "      <td>manual</td>\n",
       "      <td>54.0</td>\n",
       "      <td>andere</td>\n",
       "      <td>150000</td>\n",
       "      <td>diesel</td>\n",
       "      <td>mercedes_benz</td>\n",
       "      <td>0.0</td>\n",
       "      <td>70794</td>\n",
       "      <td>7.012115</td>\n",
       "      <td>Filderstadt</td>\n",
       "      <td>48.666700</td>\n",
       "      <td>9.216670</td>\n",
       "    </tr>\n",
       "    <tr>\n",
       "      <th>...</th>\n",
       "      <td>...</td>\n",
       "      <td>...</td>\n",
       "      <td>...</td>\n",
       "      <td>...</td>\n",
       "      <td>...</td>\n",
       "      <td>...</td>\n",
       "      <td>...</td>\n",
       "      <td>...</td>\n",
       "      <td>...</td>\n",
       "      <td>...</td>\n",
       "      <td>...</td>\n",
       "      <td>...</td>\n",
       "      <td>...</td>\n",
       "      <td>...</td>\n",
       "      <td>...</td>\n",
       "    </tr>\n",
       "    <tr>\n",
       "      <th>93878</th>\n",
       "      <td>1.400000</td>\n",
       "      <td>limousine</td>\n",
       "      <td>1999</td>\n",
       "      <td>manual</td>\n",
       "      <td>86.0</td>\n",
       "      <td>corolla</td>\n",
       "      <td>150000</td>\n",
       "      <td>gasoline</td>\n",
       "      <td>toyota</td>\n",
       "      <td>0.0</td>\n",
       "      <td>44339</td>\n",
       "      <td>4.700480</td>\n",
       "      <td>Dortmund</td>\n",
       "      <td>51.504225</td>\n",
       "      <td>7.483654</td>\n",
       "    </tr>\n",
       "    <tr>\n",
       "      <th>99783</th>\n",
       "      <td>2.200458</td>\n",
       "      <td>station wagon</td>\n",
       "      <td>2002</td>\n",
       "      <td>auto</td>\n",
       "      <td>184.0</td>\n",
       "      <td>3er</td>\n",
       "      <td>150000</td>\n",
       "      <td>diesel</td>\n",
       "      <td>bmw</td>\n",
       "      <td>0.0</td>\n",
       "      <td>47574</td>\n",
       "      <td>5.480639</td>\n",
       "      <td>Goch</td>\n",
       "      <td>51.679880</td>\n",
       "      <td>6.156480</td>\n",
       "    </tr>\n",
       "    <tr>\n",
       "      <th>57399</th>\n",
       "      <td>1.308723</td>\n",
       "      <td>small car</td>\n",
       "      <td>2005</td>\n",
       "      <td>manual</td>\n",
       "      <td>52.0</td>\n",
       "      <td>fox</td>\n",
       "      <td>100000</td>\n",
       "      <td>gasoline</td>\n",
       "      <td>volkswagen</td>\n",
       "      <td>0.0</td>\n",
       "      <td>50389</td>\n",
       "      <td>4.094345</td>\n",
       "      <td>Wesseling, Rheinland</td>\n",
       "      <td>50.833300</td>\n",
       "      <td>6.983330</td>\n",
       "    </tr>\n",
       "    <tr>\n",
       "      <th>97106</th>\n",
       "      <td>1.977524</td>\n",
       "      <td>bus</td>\n",
       "      <td>2001</td>\n",
       "      <td>manual</td>\n",
       "      <td>151.0</td>\n",
       "      <td>transporter</td>\n",
       "      <td>150000</td>\n",
       "      <td>diesel</td>\n",
       "      <td>volkswagen</td>\n",
       "      <td>0.0</td>\n",
       "      <td>12209</td>\n",
       "      <td>6.835185</td>\n",
       "      <td>Berlin</td>\n",
       "      <td>52.524680</td>\n",
       "      <td>13.405350</td>\n",
       "    </tr>\n",
       "    <tr>\n",
       "      <th>478</th>\n",
       "      <td>1.741079</td>\n",
       "      <td>limousine</td>\n",
       "      <td>1994</td>\n",
       "      <td>manual</td>\n",
       "      <td>116.0</td>\n",
       "      <td>vectra</td>\n",
       "      <td>150000</td>\n",
       "      <td>gasoline</td>\n",
       "      <td>opel</td>\n",
       "      <td>0.0</td>\n",
       "      <td>15517</td>\n",
       "      <td>4.248495</td>\n",
       "      <td>Fürstenwalde / Spree</td>\n",
       "      <td>52.367690</td>\n",
       "      <td>14.071620</td>\n",
       "    </tr>\n",
       "  </tbody>\n",
       "</table>\n",
       "<p>50000 rows × 15 columns</p>\n",
       "</div>"
      ],
      "text/plain": [
       "       engine_capacity           type  registration_year gearbox  power  \\\n",
       "index                                                                     \n",
       "60314         1.600000      small car               2013  manual  136.0   \n",
       "12566         3.207037          coupé               2004    auto  333.0   \n",
       "17760         2.105880  station wagon               2006    auto  170.0   \n",
       "8876          1.639746      limousine               1999  manual  101.0   \n",
       "80392         1.322234      limousine               1975  manual   54.0   \n",
       "...                ...            ...                ...     ...    ...   \n",
       "93878         1.400000      limousine               1999  manual   86.0   \n",
       "99783         2.200458  station wagon               2002    auto  184.0   \n",
       "57399         1.308723      small car               2005  manual   52.0   \n",
       "97106         1.977524            bus               2001  manual  151.0   \n",
       "478           1.741079      limousine               1994  manual  116.0   \n",
       "\n",
       "             model  mileage      fuel          brand  damage  zipcode  \\\n",
       "index                                                                   \n",
       "60314        swift    40000  gasoline         suzuki     0.0    30449   \n",
       "12566          6er   150000  gasoline            bmw     0.0    45307   \n",
       "17760     e_klasse   150000    diesel  mercedes_benz     0.0    59494   \n",
       "8876         astra   150000  gasoline           opel     0.0    25524   \n",
       "80392       andere   150000    diesel  mercedes_benz     0.0    70794   \n",
       "...            ...      ...       ...            ...     ...      ...   \n",
       "93878      corolla   150000  gasoline         toyota     0.0    44339   \n",
       "99783          3er   150000    diesel            bmw     0.0    47574   \n",
       "57399          fox   100000  gasoline     volkswagen     0.0    50389   \n",
       "97106  transporter   150000    diesel     volkswagen     0.0    12209   \n",
       "478         vectra   150000  gasoline           opel     0.0    15517   \n",
       "\n",
       "       insurance_price                  city   latitude  longitude  \n",
       "index                                                               \n",
       "60314         6.194405              Hannover  52.384470   9.726930  \n",
       "12566         6.507278           Essen, Ruhr  51.462488   7.008645  \n",
       "17760         6.131226      Soest, Westfalen  51.566980   8.110620  \n",
       "8876          5.438079               Itzehoe  53.926752   9.512700  \n",
       "80392         7.012115           Filderstadt  48.666700   9.216670  \n",
       "...                ...                   ...        ...        ...  \n",
       "93878         4.700480              Dortmund  51.504225   7.483654  \n",
       "99783         5.480639                  Goch  51.679880   6.156480  \n",
       "57399         4.094345  Wesseling, Rheinland  50.833300   6.983330  \n",
       "97106         6.835185                Berlin  52.524680  13.405350  \n",
       "478           4.248495  Fürstenwalde / Spree  52.367690  14.071620  \n",
       "\n",
       "[50000 rows x 15 columns]"
      ]
     },
     "execution_count": 8,
     "metadata": {},
     "output_type": "execute_result"
    }
   ],
   "source": [
    "data"
   ]
  },
  {
   "cell_type": "markdown",
   "metadata": {},
   "source": [
    "# Load model"
   ]
  },
  {
   "cell_type": "code",
   "execution_count": 9,
   "metadata": {},
   "outputs": [
    {
     "name": "stdout",
     "output_type": "stream",
     "text": [
      "lgbm-v1-2020-09-06_12:15:11.431861.model\r\n"
     ]
    }
   ],
   "source": [
    "%ls models/"
   ]
  },
  {
   "cell_type": "code",
   "execution_count": 10,
   "metadata": {},
   "outputs": [],
   "source": [
    "import joblib"
   ]
  },
  {
   "cell_type": "code",
   "execution_count": 11,
   "metadata": {},
   "outputs": [],
   "source": [
    "model_path = 'models/'\n",
    "model_name = 'lgbm-v1-2020-09-06_12:15:11.431861'\n",
    "model_file = f'{model_name}.model'"
   ]
  },
  {
   "cell_type": "code",
   "execution_count": 12,
   "metadata": {},
   "outputs": [],
   "source": [
    "reg = joblib.load(model_path + model_file)"
   ]
  },
  {
   "cell_type": "markdown",
   "metadata": {},
   "source": [
    "## Convert to category"
   ]
  },
  {
   "cell_type": "code",
   "execution_count": 13,
   "metadata": {},
   "outputs": [],
   "source": [
    "cdata = data\n",
    "for c in cdata.select_dtypes(include='object'):\n",
    "    cdata[c] = cdata[c].astype('category')"
   ]
  },
  {
   "cell_type": "code",
   "execution_count": 32,
   "metadata": {},
   "outputs": [],
   "source": [
    "X = cdata\n",
    "index = cdata.index"
   ]
  },
  {
   "cell_type": "code",
   "execution_count": 33,
   "metadata": {},
   "outputs": [],
   "source": [
    "test_result = np.exp(reg.predict(X)) # do not forget to take exp (because we used log)"
   ]
  },
  {
   "cell_type": "code",
   "execution_count": 34,
   "metadata": {
    "scrolled": false
   },
   "outputs": [],
   "source": [
    "df_result = pd.DataFrame(test_result, columns=['Predicted'])\n",
    "df_result['Id'] = index"
   ]
  },
  {
   "cell_type": "code",
   "execution_count": 35,
   "metadata": {
    "scrolled": false
   },
   "outputs": [
    {
     "data": {
      "text/html": [
       "<div>\n",
       "<style scoped>\n",
       "    .dataframe tbody tr th:only-of-type {\n",
       "        vertical-align: middle;\n",
       "    }\n",
       "\n",
       "    .dataframe tbody tr th {\n",
       "        vertical-align: top;\n",
       "    }\n",
       "\n",
       "    .dataframe thead th {\n",
       "        text-align: right;\n",
       "    }\n",
       "</style>\n",
       "<table border=\"1\" class=\"dataframe\">\n",
       "  <thead>\n",
       "    <tr style=\"text-align: right;\">\n",
       "      <th></th>\n",
       "      <th>Predicted</th>\n",
       "    </tr>\n",
       "    <tr>\n",
       "      <th>Id</th>\n",
       "      <th></th>\n",
       "    </tr>\n",
       "  </thead>\n",
       "  <tbody>\n",
       "    <tr>\n",
       "      <th>60314</th>\n",
       "      <td>9545.562059</td>\n",
       "    </tr>\n",
       "    <tr>\n",
       "      <th>12566</th>\n",
       "      <td>11247.262048</td>\n",
       "    </tr>\n",
       "    <tr>\n",
       "      <th>17760</th>\n",
       "      <td>7031.057389</td>\n",
       "    </tr>\n",
       "    <tr>\n",
       "      <th>8876</th>\n",
       "      <td>989.848489</td>\n",
       "    </tr>\n",
       "    <tr>\n",
       "      <th>80392</th>\n",
       "      <td>9155.155769</td>\n",
       "    </tr>\n",
       "    <tr>\n",
       "      <th>...</th>\n",
       "      <td>...</td>\n",
       "    </tr>\n",
       "    <tr>\n",
       "      <th>93878</th>\n",
       "      <td>1300.535254</td>\n",
       "    </tr>\n",
       "    <tr>\n",
       "      <th>99783</th>\n",
       "      <td>3488.472791</td>\n",
       "    </tr>\n",
       "    <tr>\n",
       "      <th>57399</th>\n",
       "      <td>1610.473336</td>\n",
       "    </tr>\n",
       "    <tr>\n",
       "      <th>97106</th>\n",
       "      <td>12936.380703</td>\n",
       "    </tr>\n",
       "    <tr>\n",
       "      <th>478</th>\n",
       "      <td>1119.397150</td>\n",
       "    </tr>\n",
       "  </tbody>\n",
       "</table>\n",
       "<p>50000 rows × 1 columns</p>\n",
       "</div>"
      ],
      "text/plain": [
       "          Predicted\n",
       "Id                 \n",
       "60314   9545.562059\n",
       "12566  11247.262048\n",
       "17760   7031.057389\n",
       "8876     989.848489\n",
       "80392   9155.155769\n",
       "...             ...\n",
       "93878   1300.535254\n",
       "99783   3488.472791\n",
       "57399   1610.473336\n",
       "97106  12936.380703\n",
       "478     1119.397150\n",
       "\n",
       "[50000 rows x 1 columns]"
      ]
     },
     "execution_count": 35,
     "metadata": {},
     "output_type": "execute_result"
    }
   ],
   "source": [
    "df_result.set_index('Id', inplace=True)\n",
    "df_result"
   ]
  },
  {
   "cell_type": "code",
   "execution_count": 36,
   "metadata": {},
   "outputs": [],
   "source": [
    "df_result.to_csv('result/' + model_name + '_target.csv')"
   ]
  },
  {
   "cell_type": "code",
   "execution_count": null,
   "metadata": {},
   "outputs": [],
   "source": []
  }
 ],
 "metadata": {
  "kernelspec": {
   "display_name": "Python 3",
   "language": "python",
   "name": "python3"
  },
  "language_info": {
   "codemirror_mode": {
    "name": "ipython",
    "version": 3
   },
   "file_extension": ".py",
   "mimetype": "text/x-python",
   "name": "python",
   "nbconvert_exporter": "python",
   "pygments_lexer": "ipython3",
   "version": "3.8.5"
  }
 },
 "nbformat": 4,
 "nbformat_minor": 4
}
